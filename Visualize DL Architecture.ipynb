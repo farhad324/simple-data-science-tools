{
 "cells": [
  {
   "cell_type": "code",
   "execution_count": null,
   "metadata": {},
   "outputs": [],
   "source": [
    "from PIL import ImageFont\n",
    "from collections import defaultdict\n",
    "\n",
    "font = ImageFont.truetype(\"arial.ttf\", 18) \n",
    "\n",
    "color_map = defaultdict(dict)\n",
    "color_map[Conv2D]['fill'] = 'orange'\n",
    "color_map[Dropout]['fill'] = 'silver'\n",
    "color_map[MaxPooling2D]['fill'] = 'red'\n",
    "color_map[Dense]['fill'] = 'blue'\n",
    "color_map[Flatten]['fill'] = 'purple'\n",
    "color_map[BatchNormalization]['fill'] = 'lightgreen'\n",
    "\n",
    "import visualkeras\n",
    "visualkeras.layered_view(detection, legend=True,font=font,color_map=color_map)"
   ]
  }
 ],
 "metadata": {
  "kernelspec": {
   "display_name": "gpu_tf",
   "language": "python",
   "name": "gpu_tf"
  },
  "language_info": {
   "codemirror_mode": {
    "name": "ipython",
    "version": 3
   },
   "file_extension": ".py",
   "mimetype": "text/x-python",
   "name": "python",
   "nbconvert_exporter": "python",
   "pygments_lexer": "ipython3",
   "version": "3.8.11"
  }
 },
 "nbformat": 4,
 "nbformat_minor": 2
}
