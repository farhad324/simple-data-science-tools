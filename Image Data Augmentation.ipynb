{
 "cells": [
  {
   "cell_type": "code",
   "execution_count": null,
   "metadata": {},
   "outputs": [],
   "source": [
    "import os\n",
    "\n",
    "path = 'path'\n",
    "\n",
    "folder = os.fsencode(path)\n",
    "\n",
    "filenames = []\n",
    "\n",
    "for file in os.listdir(folder):\n",
    "    filename = os.fsdecode(file)\n",
    "    if filename.endswith( ('.png') ):\n",
    "        filenames.append(filename)\n",
    "\n",
    "print(filenames)\n",
    "from keras.preprocessing.image import ImageDataGenerator, array_to_img, img_to_array, load_img\n",
    "\n",
    "datagen = ImageDataGenerator(\n",
    "        rotation_range=20,\n",
    "        zoom_range=[1.1,1.4],\n",
    "        horizontal_flip=True)\n",
    "\n",
    "for i in filenames:\n",
    "    pathh=path+i\n",
    "    img = load_img(pathh)  \n",
    "    x = img_to_array(img)  \n",
    "    x = x.reshape((1,) + x.shape)  \n",
    "\n",
    "\n",
    "    i = 0\n",
    "    for batch in datagen.flow(x, batch_size=1,\n",
    "                              save_to_dir='sample', save_prefix='aug', save_format='png'):\n",
    "        i += 1\n",
    "        if i > 6:\n",
    "            break  "
   ]
  }
 ],
 "metadata": {
  "kernelspec": {
   "display_name": "gpu_tf",
   "language": "python",
   "name": "gpu_tf"
  },
  "language_info": {
   "codemirror_mode": {
    "name": "ipython",
    "version": 3
   },
   "file_extension": ".py",
   "mimetype": "text/x-python",
   "name": "python",
   "nbconvert_exporter": "python",
   "pygments_lexer": "ipython3",
   "version": "3.8.11"
  }
 },
 "nbformat": 4,
 "nbformat_minor": 2
}
