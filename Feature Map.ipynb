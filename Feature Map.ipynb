{
 "cells": [
  {
   "cell_type": "code",
   "execution_count": null,
   "metadata": {},
   "outputs": [],
   "source": [
    "import numpy as np\n",
    "import random\n",
    "from tensorflow.keras.preprocessing.image import img_to_array, load_img\n",
    "\n",
    "layer_outputs = [layer.output for layer in detection.layers[1:]]\n",
    "layer_outputs"
   ]
  },
  {
   "cell_type": "code",
   "execution_count": null,
   "metadata": {},
   "outputs": [],
   "source": [
    "visualize_model = tf.keras.models.Model(inputs=detection.input,outputs=layer_outputs)"
   ]
  },
  {
   "cell_type": "code",
   "execution_count": null,
   "metadata": {},
   "outputs": [],
   "source": [
    "img = load_img('path',target_size=(100,100))"
   ]
  },
  {
   "cell_type": "code",
   "execution_count": null,
   "metadata": {},
   "outputs": [],
   "source": [
    "x= img_to_array(img)\n",
    "x.shape"
   ]
  },
  {
   "cell_type": "code",
   "execution_count": null,
   "metadata": {},
   "outputs": [],
   "source": [
    "x=x.reshape((1,100,100,3))\n",
    "x.shape"
   ]
  },
  {
   "cell_type": "code",
   "execution_count": null,
   "metadata": {},
   "outputs": [],
   "source": [
    "x=x/255\n",
    "x"
   ]
  },
  {
   "cell_type": "code",
   "execution_count": null,
   "metadata": {},
   "outputs": [],
   "source": [
    "feature_maps=visualize_model.predict(x)\n",
    "print(len(feature_maps))"
   ]
  },
  {
   "cell_type": "code",
   "execution_count": null,
   "metadata": {},
   "outputs": [],
   "source": [
    "layer_names = [layer.name for layer in detection.layers]\n",
    "print(layer_names)\n"
   ]
  },
  {
   "cell_type": "code",
   "execution_count": null,
   "metadata": {},
   "outputs": [],
   "source": [
    "import numpy as np\n",
    "\n",
    "import matplotlib.pyplot as plt\n",
    "%matplotlib inline"
   ]
  },
  {
   "cell_type": "code",
   "execution_count": null,
   "metadata": {},
   "outputs": [],
   "source": [
    "for layer_names1, feature_maps in zip(layer_names,feature_maps):\n",
    "    print(feature_maps.shape)\n",
    "    if len(feature_maps.shape) == 4:\n",
    "        channels = feature_maps.shape[-1]\n",
    "        size = feature_maps.shape[1]\n",
    "        display_grid = np.zeros((size,size*channels))\n",
    "        for i in range(channels):\n",
    "            x = feature_maps[0,:,:,i]\n",
    "            x-=x.mean()\n",
    "            x/=x.std()\n",
    "            x*=64\n",
    "            x+=128\n",
    "            x=np.clip(x,0,255).astype('uint8')\n",
    "            display_grid[:,i*size:(i+1)*size]=x\n",
    "        scale = 20./channels\n",
    "        plt.figure(figsize=(scale*channels,scale))\n",
    "        plt.title(layer_names1)\n",
    "        plt.grid(False)\n",
    "        plt.imshow(display_grid, aspect='auto',cmap='viridis')"
   ]
  }
 ],
 "metadata": {
  "kernelspec": {
   "display_name": "gpu_tf",
   "language": "python",
   "name": "gpu_tf"
  },
  "language_info": {
   "codemirror_mode": {
    "name": "ipython",
    "version": 3
   },
   "file_extension": ".py",
   "mimetype": "text/x-python",
   "name": "python",
   "nbconvert_exporter": "python",
   "pygments_lexer": "ipython3",
   "version": "3.8.11"
  }
 },
 "nbformat": 4,
 "nbformat_minor": 2
}
