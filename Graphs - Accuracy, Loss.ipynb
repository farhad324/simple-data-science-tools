{
 "cells": [
  {
   "cell_type": "markdown",
   "metadata": {},
   "source": [
    "## Fit"
   ]
  },
  {
   "cell_type": "code",
   "execution_count": null,
   "metadata": {},
   "outputs": [],
   "source": [
    "mod = detection.fit(x=train_generator,\n",
    "                    steps_per_epoch=steps_per_epoch,\n",
    "                    epochs=ephocs,\n",
    "                    validation_data=validation_generator,\n",
    "                    validation_steps=validation_steps\n",
    "                    )"
   ]
  },
  {
   "cell_type": "markdown",
   "metadata": {},
   "source": [
    "## Plot"
   ]
  },
  {
   "cell_type": "code",
   "execution_count": null,
   "metadata": {},
   "outputs": [],
   "source": [
    "import matplotlib.pyplot as plt\n",
    "import seaborn as sns\n",
    "sns.set()\n",
    "# plot the loss\n",
    "plt.plot(mod.history['loss'], label='Train')\n",
    "plt.plot(mod.history['val_loss'], label='Validation')\n",
    "plt.legend()\n",
    "plt.title('Train Loss and Validation Loss in Proposed Neural Network')\n",
    "plt.show()\n",
    "plt.savefig('LossVal_loss_nonaugmented')\n"
   ]
  },
  {
   "cell_type": "code",
   "execution_count": null,
   "metadata": {},
   "outputs": [],
   "source": [
    "plt.plot(mod.history['accuracy'], label='Train')\n",
    "plt.plot(mod.history['val_accuracy'], label='Validation')\n",
    "plt.legend()\n",
    "plt.title('Train Accuracy and Validation Accuracy in Proposed Neural Network')\n",
    "plt.show()\n",
    "plt.savefig('AccVal_acc_nonaugmented')\n"
   ]
  }
 ],
 "metadata": {
  "kernelspec": {
   "display_name": "gpu_tf",
   "language": "python",
   "name": "gpu_tf"
  },
  "language_info": {
   "codemirror_mode": {
    "name": "ipython",
    "version": 3
   },
   "file_extension": ".py",
   "mimetype": "text/x-python",
   "name": "python",
   "nbconvert_exporter": "python",
   "pygments_lexer": "ipython3",
   "version": "3.8.11"
  }
 },
 "nbformat": 4,
 "nbformat_minor": 2
}
